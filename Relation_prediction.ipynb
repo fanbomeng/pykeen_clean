{
 "cells": [
  {
   "cell_type": "code",
   "execution_count": 7,
   "id": "82ec80c5",
   "metadata": {},
   "outputs": [],
   "source": [
    "import json\n",
    "f = open('/shared/Fanbo/Knowledge/pykeen/datasets_knowledge_embedding/FB15k-237/entity2wikidata.json')\n",
    "data = json.load(f)\n"
   ]
  },
  {
   "cell_type": "code",
   "execution_count": 8,
   "id": "abb63912",
   "metadata": {},
   "outputs": [],
   "source": [
    "new_mapping={}\n",
    "for ele in data:\n",
    "    #print(data[i]['alternatives'])\n",
    "    #new_mapping[data[ele]['description']]=ele\n",
    "    new_mapping[data[ele]['label']]=ele\n",
    "    for sub_alt in data[ele]['alternatives']:\n",
    "        new_mapping[sub_alt]=ele"
   ]
  },
  {
   "cell_type": "code",
   "execution_count": 3,
   "id": "4437c579",
   "metadata": {},
   "outputs": [],
   "source": [
    "import torch\n",
    "from pykeen.datasets import get_dataset\n",
    "model = torch.load('FB15_100_epoch_base/trained_model.pkl')"
   ]
  },
  {
   "cell_type": "code",
   "execution_count": 4,
   "id": "85e0d937",
   "metadata": {},
   "outputs": [],
   "source": [
    "training = get_dataset(dataset=\"FB15k-237\").training"
   ]
  },
  {
   "cell_type": "code",
   "execution_count": 5,
   "id": "29bea7f1",
   "metadata": {},
   "outputs": [],
   "source": [
    "predicted_tails_df = model.get_tail_prediction_df('/m/027rn', '/location/country/form_of_government', triples_factory=training)"
   ]
  },
  {
   "cell_type": "code",
   "execution_count": 6,
   "id": "422a342e",
   "metadata": {},
   "outputs": [
    {
     "data": {
      "text/html": [
       "<div>\n",
       "<style scoped>\n",
       "    .dataframe tbody tr th:only-of-type {\n",
       "        vertical-align: middle;\n",
       "    }\n",
       "\n",
       "    .dataframe tbody tr th {\n",
       "        vertical-align: top;\n",
       "    }\n",
       "\n",
       "    .dataframe thead th {\n",
       "        text-align: right;\n",
       "    }\n",
       "</style>\n",
       "<table border=\"1\" class=\"dataframe\">\n",
       "  <thead>\n",
       "    <tr style=\"text-align: right;\">\n",
       "      <th></th>\n",
       "      <th>tail_id</th>\n",
       "      <th>tail_label</th>\n",
       "      <th>score</th>\n",
       "      <th>in_training</th>\n",
       "    </tr>\n",
       "  </thead>\n",
       "  <tbody>\n",
       "    <tr>\n",
       "      <th>8919</th>\n",
       "      <td>8919</td>\n",
       "      <td>/m/06cx9</td>\n",
       "      <td>8.954803</td>\n",
       "      <td>True</td>\n",
       "    </tr>\n",
       "    <tr>\n",
       "      <th>1504</th>\n",
       "      <td>1504</td>\n",
       "      <td>/m/01fpfn</td>\n",
       "      <td>8.892716</td>\n",
       "      <td>False</td>\n",
       "    </tr>\n",
       "    <tr>\n",
       "      <th>1367</th>\n",
       "      <td>1367</td>\n",
       "      <td>/m/01d9r3</td>\n",
       "      <td>8.572166</td>\n",
       "      <td>False</td>\n",
       "    </tr>\n",
       "    <tr>\n",
       "      <th>981</th>\n",
       "      <td>981</td>\n",
       "      <td>/m/018wl5</td>\n",
       "      <td>7.966647</td>\n",
       "      <td>False</td>\n",
       "    </tr>\n",
       "    <tr>\n",
       "      <th>3692</th>\n",
       "      <td>3692</td>\n",
       "      <td>/m/026wp</td>\n",
       "      <td>7.313705</td>\n",
       "      <td>True</td>\n",
       "    </tr>\n",
       "    <tr>\n",
       "      <th>...</th>\n",
       "      <td>...</td>\n",
       "      <td>...</td>\n",
       "      <td>...</td>\n",
       "      <td>...</td>\n",
       "    </tr>\n",
       "    <tr>\n",
       "      <th>8725</th>\n",
       "      <td>8725</td>\n",
       "      <td>/m/062zm5h</td>\n",
       "      <td>-3.208666</td>\n",
       "      <td>False</td>\n",
       "    </tr>\n",
       "    <tr>\n",
       "      <th>4607</th>\n",
       "      <td>4607</td>\n",
       "      <td>/m/02m3sd</td>\n",
       "      <td>-3.237455</td>\n",
       "      <td>False</td>\n",
       "    </tr>\n",
       "    <tr>\n",
       "      <th>12483</th>\n",
       "      <td>12483</td>\n",
       "      <td>/m/0gkz15s</td>\n",
       "      <td>-3.415740</td>\n",
       "      <td>False</td>\n",
       "    </tr>\n",
       "    <tr>\n",
       "      <th>10965</th>\n",
       "      <td>10965</td>\n",
       "      <td>/m/0bq8tmw</td>\n",
       "      <td>-3.437857</td>\n",
       "      <td>False</td>\n",
       "    </tr>\n",
       "    <tr>\n",
       "      <th>14271</th>\n",
       "      <td>14271</td>\n",
       "      <td>/m/0tj9</td>\n",
       "      <td>-3.801974</td>\n",
       "      <td>False</td>\n",
       "    </tr>\n",
       "  </tbody>\n",
       "</table>\n",
       "<p>14505 rows × 4 columns</p>\n",
       "</div>"
      ],
      "text/plain": [
       "       tail_id  tail_label     score  in_training\n",
       "8919      8919    /m/06cx9  8.954803         True\n",
       "1504      1504   /m/01fpfn  8.892716        False\n",
       "1367      1367   /m/01d9r3  8.572166        False\n",
       "981        981   /m/018wl5  7.966647        False\n",
       "3692      3692    /m/026wp  7.313705         True\n",
       "...        ...         ...       ...          ...\n",
       "8725      8725  /m/062zm5h -3.208666        False\n",
       "4607      4607   /m/02m3sd -3.237455        False\n",
       "12483    12483  /m/0gkz15s -3.415740        False\n",
       "10965    10965  /m/0bq8tmw -3.437857        False\n",
       "14271    14271     /m/0tj9 -3.801974        False\n",
       "\n",
       "[14505 rows x 4 columns]"
      ]
     },
     "execution_count": 6,
     "metadata": {},
     "output_type": "execute_result"
    }
   ],
   "source": [
    "predicted_tails_df"
   ]
  },
  {
   "cell_type": "code",
   "execution_count": null,
   "id": "029cf1ff",
   "metadata": {},
   "outputs": [],
   "source": []
  },
  {
   "cell_type": "code",
   "execution_count": null,
   "id": "ac4fe51f",
   "metadata": {},
   "outputs": [],
   "source": []
  }
 ],
 "metadata": {
  "kernelspec": {
   "display_name": "fanbo_pykeen",
   "language": "python",
   "name": "fanbo_pykeen"
  },
  "language_info": {
   "codemirror_mode": {
    "name": "ipython",
    "version": 3
   },
   "file_extension": ".py",
   "mimetype": "text/x-python",
   "name": "python",
   "nbconvert_exporter": "python",
   "pygments_lexer": "ipython3",
   "version": "3.9.12"
  }
 },
 "nbformat": 4,
 "nbformat_minor": 5
}
