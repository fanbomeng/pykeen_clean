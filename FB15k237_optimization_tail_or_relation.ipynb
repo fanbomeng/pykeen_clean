{
 "cells": [
  {
   "cell_type": "markdown",
   "id": "7743fe20",
   "metadata": {},
   "source": [
    "### Tail prediction model pipeline"
   ]
  },
  {
   "cell_type": "markdown",
   "id": "fb565db1",
   "metadata": {},
   "source": [
    "#### Current trained model can be found here:\n",
    "/shared/Fanbo/Knowledge/pykeen/FB15_100_epoch_base"
   ]
  },
  {
   "cell_type": "code",
   "execution_count": null,
   "id": "23d64f93",
   "metadata": {},
   "outputs": [],
   "source": [
    "from pykeen.pipeline import pipeline\n",
    "pipeline_result = pipeline(\n",
    "    model='TuckER',\n",
    "    dataset='FB15k-237',\n",
    "    result_tracker='tensorboard',\n",
    "    training_loop='LCWA',\n",
    "    stopper='early',\n",
    "    stopper_kwargs=dict(frequency=10, patience=5, relative_delta=0.002),\n",
    "    epochs=100,\n",
    "    dataset_kwargs=dict(\n",
    "        create_inverse_triples=True,\n",
    "    ))\n",
    "pipeline_result.save_to_directory('FB15_100_epoch_base')"
   ]
  },
  {
   "cell_type": "markdown",
   "id": "02c7d440",
   "metadata": {},
   "source": [
    "#### loading and evaluate trained model results can be check on tensorboard, if trained(takes time) otherwise directly evaluate"
   ]
  },
  {
   "cell_type": "code",
   "execution_count": null,
   "id": "b881d162",
   "metadata": {},
   "outputs": [],
   "source": [
    "import torch\n",
    "my_pykeen_model = torch.load('/shared/Fanbo/Knowledge/pykeen/FB15_100_epoch_base/trained_model.pkl')"
   ]
  },
  {
   "cell_type": "code",
   "execution_count": null,
   "id": "337b8257",
   "metadata": {},
   "outputs": [],
   "source": [
    "from pykeen.evaluation import RankBasedEvaluator\n",
    "from pykeen.datasets.freebase import FB15k237\n",
    "dataset = FB15k237()\n",
    "evaluator = RankBasedEvaluator()\n",
    "\n",
    "# Get triples to test\n",
    "mapped_triples = dataset.testing.mapped_triples\n",
    "\n",
    "# Evaluate\n",
    "results = evaluator.evaluate(\n",
    "    model=model,\n",
    "    mapped_triples=mapped_triples,\n",
    "    batch_size=1024,\n",
    "    additional_filter_triples=[\n",
    "        dataset.training.mapped_triples,\n",
    "        dataset.validation.mapped_triples,\n",
    "    ],\n",
    ")"
   ]
  },
  {
   "cell_type": "code",
   "execution_count": null,
   "id": "0f5718c4",
   "metadata": {},
   "outputs": [],
   "source": []
  },
  {
   "cell_type": "code",
   "execution_count": null,
   "id": "e3e9b5f3",
   "metadata": {},
   "outputs": [],
   "source": []
  },
  {
   "cell_type": "code",
   "execution_count": null,
   "id": "cfbd168f",
   "metadata": {},
   "outputs": [],
   "source": []
  },
  {
   "cell_type": "markdown",
   "id": "feb5c523",
   "metadata": {},
   "source": [
    "## Relation prediction"
   ]
  },
  {
   "cell_type": "code",
   "execution_count": null,
   "id": "741bd3c3",
   "metadata": {},
   "outputs": [],
   "source": [
    "import pandas as pd\n",
    "from pykeen.models import predict"
   ]
  },
  {
   "cell_type": "markdown",
   "id": "6aa23f82",
   "metadata": {},
   "source": [
    "#### evaluation function created for tail and relation respectively"
   ]
  },
  {
   "cell_type": "code",
   "execution_count": 20,
   "id": "b99b6bda",
   "metadata": {},
   "outputs": [],
   "source": [
    "\n",
    "def top_k_v2_tail(df,top_k,model,training_data):\n",
    "    count=0\n",
    "    total=len(df)\n",
    "    top_k=top_k\n",
    "    for index,row in df.iterrows():\n",
    "        try:\n",
    "            tmp=predict.get_tail_prediction_df(model, row[0], row[1], triples_factory=training_data).iloc[:top_k,3].sum()\n",
    "           # print(count)\n",
    "            if tmp>=1:\n",
    "                count+=1\n",
    "                #print(count)\n",
    "        except:\n",
    "            total-=1\n",
    "            print(\"execpt\")\n",
    "    print(count)\n",
    "    print(count/total)\n",
    "\n",
    "def top_k_v2(df,top_k,model,training_data):\n",
    "    count=0\n",
    "    total=len(df)\n",
    "    top_k=top_k\n",
    "    for index,row in df.iterrows():\n",
    "        try:\n",
    "            tmp=predict.get_relation_prediction_df(model, row[0], row[2], triples_factory=training_data).iloc[:top_k,3].sum()\n",
    "           # print(count)\n",
    "            if tmp>=1:\n",
    "                count+=1\n",
    "                #print(count)\n",
    "        except:\n",
    "            total-=1\n",
    "            print(\"execpt\")\n",
    "            #print(row[0], row[2])\n",
    "    print(count)\n",
    "    print(count/total)"
   ]
  },
  {
   "cell_type": "markdown",
   "id": "5d345d82",
   "metadata": {},
   "source": [
    "### Relation prediction nations test ground FB15k-237"
   ]
  },
  {
   "cell_type": "code",
   "execution_count": null,
   "id": "9ae77b64",
   "metadata": {},
   "outputs": [],
   "source": [
    "# Get a training dataset\n",
    "from pykeen.datasets import get_dataset\n",
    "dataset = get_dataset(dataset=\"FB15k-237\")\n",
    "training_triples_factory = dataset.training\n",
    "\n",
    "# Pick a model\n",
    "from pykeen.models import TuckER\n",
    "model = TuckER(triples_factory=training_triples_factory,loss='MarginRankingLoss')\n",
    "model.to('cuda')\n",
    "\n",
    "\n",
    "# Pick an optimizer from Torch\n",
    "from torch.optim import Adam\n",
    "optimizer = Adam(params=model.get_grad_params())\n",
    "\n",
    "# Pick a training approach (sLCWA or LCWA)\n",
    "from pykeen.training import SLCWATrainingLoop\n",
    "training_loop = SLCWATrainingLoop(\n",
    "    model=model,\n",
    "    triples_factory=training_triples_factory,\n",
    "    optimizer=optimizer,\n",
    "    negative_sampler='basic',\n",
    "    negative_sampler_kwargs=dict(\n",
    "        corruption_scheme=['relation']))\n",
    "        #filtered=True,corruption_scheme=[\"head\",'relation','tail']))\n",
    "\n",
    "# Train like Cristiano Ronaldo\n",
    "_ = training_loop.train(\n",
    "    triples_factory=training_triples_factory,\n",
    "    num_epochs=20,\n",
    "    batch_size=256,\n",
    ")"
   ]
  },
  {
   "cell_type": "markdown",
   "id": "6adf0dec",
   "metadata": {},
   "source": [
    "#### Model is torch model, current trained model can be loaded:"
   ]
  },
  {
   "cell_type": "code",
   "execution_count": null,
   "id": "cd0d3691",
   "metadata": {},
   "outputs": [],
   "source": [
    "model = torch.load('/shared/Fanbo/Knowledge/pykeen/FB15k_237_relation_model/FB15k_237_relation_model.pkl')"
   ]
  },
  {
   "cell_type": "code",
   "execution_count": 5,
   "id": "ef6fa442",
   "metadata": {},
   "outputs": [],
   "source": [
    "import pandas as pd\n",
    "validation_Fb=pd.read_csv('/shared/Fanbo/Knowledge/pykeen/FB15K_pykeen_data/valid.txt',sep='\\t',header=None)\n",
    "train_Fb=pd.read_csv('/shared/Fanbo/Knowledge/pykeen/FB15K_pykeen_data/train.txt',sep='\\t',header=None)\n",
    "test_Fb=pd.read_csv('/shared/Fanbo/Knowledge/pykeen/FB15K_pykeen_data/test.txt',sep='\\t',header=None)"
   ]
  },
  {
   "cell_type": "code",
   "execution_count": 6,
   "id": "54ae7b20",
   "metadata": {},
   "outputs": [],
   "source": []
  },
  {
   "cell_type": "markdown",
   "id": "c9580870",
   "metadata": {},
   "source": [
    "#### Relation predictoin training data score"
   ]
  },
  {
   "cell_type": "code",
   "execution_count": 23,
   "id": "a975cca2",
   "metadata": {},
   "outputs": [
    {
     "name": "stdout",
     "output_type": "stream",
     "text": [
      "491\n",
      "0.982\n"
     ]
    }
   ],
   "source": [
    "top_k_v2(train_Fb.iloc[:500,:],3,model,training_triples_factory)"
   ]
  },
  {
   "cell_type": "markdown",
   "id": "a8e893b8",
   "metadata": {},
   "source": [
    "#### validation score"
   ]
  },
  {
   "cell_type": "code",
   "execution_count": 68,
   "id": "06cb1b48",
   "metadata": {
    "scrolled": true
   },
   "outputs": [
    {
     "name": "stdout",
     "output_type": "stream",
     "text": [
      "execpt\n",
      "454\n",
      "0.9098196392785571\n"
     ]
    }
   ],
   "source": [
    "top_k_v2(validation_Fb.iloc[:500,:],2,model,dataset.validation)"
   ]
  },
  {
   "cell_type": "markdown",
   "id": "e4ce7620",
   "metadata": {},
   "source": [
    "#### if directly predict"
   ]
  },
  {
   "cell_type": "code",
   "execution_count": 56,
   "id": "139dcc66",
   "metadata": {},
   "outputs": [
    {
     "data": {
      "text/html": [
       "<div>\n",
       "<style scoped>\n",
       "    .dataframe tbody tr th:only-of-type {\n",
       "        vertical-align: middle;\n",
       "    }\n",
       "\n",
       "    .dataframe tbody tr th {\n",
       "        vertical-align: top;\n",
       "    }\n",
       "\n",
       "    .dataframe thead th {\n",
       "        text-align: right;\n",
       "    }\n",
       "</style>\n",
       "<table border=\"1\" class=\"dataframe\">\n",
       "  <thead>\n",
       "    <tr style=\"text-align: right;\">\n",
       "      <th></th>\n",
       "      <th>relation_id</th>\n",
       "      <th>relation_label</th>\n",
       "      <th>score</th>\n",
       "      <th>in_training</th>\n",
       "      <th>in_testing</th>\n",
       "    </tr>\n",
       "  </thead>\n",
       "  <tbody>\n",
       "    <tr>\n",
       "      <th>131</th>\n",
       "      <td>131</td>\n",
       "      <td>/location/location/time_zones</td>\n",
       "      <td>8.358224</td>\n",
       "      <td>False</td>\n",
       "      <td>True</td>\n",
       "    </tr>\n",
       "    <tr>\n",
       "      <th>116</th>\n",
       "      <td>116</td>\n",
       "      <td>/influence/influence_node/peers./influence/pee...</td>\n",
       "      <td>3.198422</td>\n",
       "      <td>False</td>\n",
       "      <td>False</td>\n",
       "    </tr>\n",
       "    <tr>\n",
       "      <th>53</th>\n",
       "      <td>53</td>\n",
       "      <td>/education/educational_degree/people_with_this...</td>\n",
       "      <td>3.175734</td>\n",
       "      <td>False</td>\n",
       "      <td>False</td>\n",
       "    </tr>\n",
       "    <tr>\n",
       "      <th>23</th>\n",
       "      <td>23</td>\n",
       "      <td>/base/biblioness/bibs_location/state</td>\n",
       "      <td>2.387324</td>\n",
       "      <td>False</td>\n",
       "      <td>False</td>\n",
       "    </tr>\n",
       "    <tr>\n",
       "      <th>22</th>\n",
       "      <td>22</td>\n",
       "      <td>/base/biblioness/bibs_location/country</td>\n",
       "      <td>2.349178</td>\n",
       "      <td>False</td>\n",
       "      <td>False</td>\n",
       "    </tr>\n",
       "    <tr>\n",
       "      <th>...</th>\n",
       "      <td>...</td>\n",
       "      <td>...</td>\n",
       "      <td>...</td>\n",
       "      <td>...</td>\n",
       "      <td>...</td>\n",
       "    </tr>\n",
       "    <tr>\n",
       "      <th>69</th>\n",
       "      <td>69</td>\n",
       "      <td>/film/actor/film./film/performance/special_per...</td>\n",
       "      <td>-4.804832</td>\n",
       "      <td>False</td>\n",
       "      <td>False</td>\n",
       "    </tr>\n",
       "    <tr>\n",
       "      <th>169</th>\n",
       "      <td>169</td>\n",
       "      <td>/organization/non_profit_organization/register...</td>\n",
       "      <td>-4.951991</td>\n",
       "      <td>False</td>\n",
       "      <td>False</td>\n",
       "    </tr>\n",
       "    <tr>\n",
       "      <th>34</th>\n",
       "      <td>34</td>\n",
       "      <td>/base/popstra/location/vacationers./base/popst...</td>\n",
       "      <td>-5.496681</td>\n",
       "      <td>False</td>\n",
       "      <td>False</td>\n",
       "    </tr>\n",
       "    <tr>\n",
       "      <th>104</th>\n",
       "      <td>104</td>\n",
       "      <td>/film/special_film_performance_type/film_perfo...</td>\n",
       "      <td>-7.353208</td>\n",
       "      <td>False</td>\n",
       "      <td>False</td>\n",
       "    </tr>\n",
       "    <tr>\n",
       "      <th>36</th>\n",
       "      <td>36</td>\n",
       "      <td>/base/schemastaging/organization_extra/phone_n...</td>\n",
       "      <td>-9.255677</td>\n",
       "      <td>False</td>\n",
       "      <td>False</td>\n",
       "    </tr>\n",
       "  </tbody>\n",
       "</table>\n",
       "<p>237 rows × 5 columns</p>\n",
       "</div>"
      ],
      "text/plain": [
       "     relation_id                                     relation_label     score  \\\n",
       "131          131                      /location/location/time_zones  8.358224   \n",
       "116          116  /influence/influence_node/peers./influence/pee...  3.198422   \n",
       "53            53  /education/educational_degree/people_with_this...  3.175734   \n",
       "23            23               /base/biblioness/bibs_location/state  2.387324   \n",
       "22            22             /base/biblioness/bibs_location/country  2.349178   \n",
       "..           ...                                                ...       ...   \n",
       "69            69  /film/actor/film./film/performance/special_per... -4.804832   \n",
       "169          169  /organization/non_profit_organization/register... -4.951991   \n",
       "34            34  /base/popstra/location/vacationers./base/popst... -5.496681   \n",
       "104          104  /film/special_film_performance_type/film_perfo... -7.353208   \n",
       "36            36  /base/schemastaging/organization_extra/phone_n... -9.255677   \n",
       "\n",
       "     in_training  in_testing  \n",
       "131        False        True  \n",
       "116        False       False  \n",
       "53         False       False  \n",
       "23         False       False  \n",
       "22         False       False  \n",
       "..           ...         ...  \n",
       "69         False       False  \n",
       "169        False       False  \n",
       "34         False       False  \n",
       "104        False       False  \n",
       "36         False       False  \n",
       "\n",
       "[237 rows x 5 columns]"
      ]
     },
     "execution_count": 56,
     "metadata": {},
     "output_type": "execute_result"
    }
   ],
   "source": [
    "test=predict.get_relation_prediction_df(model,\"/m/06wxw\",\"/m/02fqwt\", triples_factory=dataset.training, testing=dataset.validation.mapped_triples)\n",
    "test"
   ]
  },
  {
   "cell_type": "markdown",
   "id": "f74816f9",
   "metadata": {},
   "source": [
    "### Pegasus for conditional generation:\n",
    "labels (torch.LongTensor of shape (batch_size, sequence_length), optional) — Labels for computing the masked language modeling loss. Indices should either be in [0, ..., config.vocab_size] or -100 (see input_ids docstring). Tokens with indices set to -100 are ignored (masked), the loss is only computed for the tokens with labels in [0, ..., config.vocab_size]."
   ]
  },
  {
   "cell_type": "code",
   "execution_count": null,
   "id": "e70c7e35",
   "metadata": {},
   "outputs": [],
   "source": []
  }
 ],
 "metadata": {
  "kernelspec": {
   "display_name": "fanbo_pykeen",
   "language": "python",
   "name": "fanbo_pykeen"
  },
  "language_info": {
   "codemirror_mode": {
    "name": "ipython",
    "version": 3
   },
   "file_extension": ".py",
   "mimetype": "text/x-python",
   "name": "python",
   "nbconvert_exporter": "python",
   "pygments_lexer": "ipython3",
   "version": "3.9.12"
  }
 },
 "nbformat": 4,
 "nbformat_minor": 5
}
